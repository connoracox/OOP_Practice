{
 "cells": [
  {
   "cell_type": "markdown",
   "metadata": {},
   "source": [
    "# Object-Oriented-Programming (OOP)"
   ]
  },
  {
   "cell_type": "markdown",
   "metadata": {},
   "source": [
    "## Tasks Today:\n",
    "\n",
    "   \n",
    "\n",
    "1) <b>Creating a Class (Initializing/Declaring)</b> <br>\n",
    "2) <b>Using a Class (Instantiating)</b> <br>\n",
    " &nbsp;&nbsp;&nbsp;&nbsp; a) Creating One Instance <br>\n",
    " &nbsp;&nbsp;&nbsp;&nbsp; b) Creating Multiple Instances <br>\n",
    " &nbsp;&nbsp;&nbsp;&nbsp; c) In-Class Exercise #1 - Create a Class 'Car' and instantiate three different makes of cars <br>\n",
    "3) <b>The \\__init\\__() Method</b> <br>\n",
    " &nbsp;&nbsp;&nbsp;&nbsp; a) The 'self' Attribute <br>\n",
    "4) <b>Class Attributes</b> <br>\n",
    " &nbsp;&nbsp;&nbsp;&nbsp; a) Initializing Attributes <br>\n",
    " &nbsp;&nbsp;&nbsp;&nbsp; b) Setting an Attribute Outside of the \\__init\\__() Method <br>\n",
    " &nbsp;&nbsp;&nbsp;&nbsp; c) Setting Defaults for Attributes <br>\n",
    " &nbsp;&nbsp;&nbsp;&nbsp; d) Accessing Class Attributes <br>\n",
    " &nbsp;&nbsp;&nbsp;&nbsp; e) Changing Class Attributes <br>\n",
    " &nbsp;&nbsp;&nbsp;&nbsp; f) In-Class Exercise #2 - Add a color and wheels attribute to your 'Car' class <br>\n",
    "5) <b>Class Methods</b> <br>\n",
    " &nbsp;&nbsp;&nbsp;&nbsp; a) Creating <br>\n",
    " &nbsp;&nbsp;&nbsp;&nbsp; b) Calling <br>\n",
    " &nbsp;&nbsp;&nbsp;&nbsp; c) Modifying an Attribute's Value Through a Method <br>\n",
    " &nbsp;&nbsp;&nbsp;&nbsp; d) Incrementing an Attribute's Value Through a Method <br>\n",
    " &nbsp;&nbsp;&nbsp;&nbsp; e) In-Class Exercise #3 - Add a method that prints the cars color and wheel number, then call them <br>\n",
    "6) <b>Inheritance</b> <br>\n",
    " &nbsp;&nbsp;&nbsp;&nbsp; a) Syntax for Inheriting from a Parent Class <br>\n",
    " &nbsp;&nbsp;&nbsp;&nbsp; b) The \\__init\\__() Method for a Child Class (super()) <br>\n",
    " &nbsp;&nbsp;&nbsp;&nbsp; c) Defining Attributes and Methods for the Child Class <br>\n",
    " &nbsp;&nbsp;&nbsp;&nbsp; d) Method Overriding <br>\n",
    " &nbsp;&nbsp;&nbsp;&nbsp; e) In-Class Exercise #4 - Create a class 'Ford' that inherits from 'Car' class and initialize it as a Blue Ford Explorer with 4 wheels using the super() method <br>\n",
    "7) <b>Classes as Attributes</b> <br>\n",
    "8) <b>Exercises</b> <br>\n",
    " &nbsp;&nbsp;&nbsp;&nbsp; a) Exercise #1 - Turn the shopping cart program from yesterday into an object-oriented program <br>"
   ]
  },
  {
   "cell_type": "markdown",
   "metadata": {},
   "source": [
    "## Creating a Class (Initializing/Declaring)\n",
    "<p>When creating a class, function, or even a variable you are initializing that object. Initializing and Declaring occur at the same time in Python, whereas in lower level languages you have to declare an object before initializing it. This is the first step in the process of using a class.</p>"
   ]
  },
  {
   "cell_type": "code",
   "execution_count": 2,
   "metadata": {},
   "outputs": [],
   "source": [
    "class Car:\n",
    "    color = 'Red'\n",
    "    make = 'Honda'\n",
    "    model = 'Accord'\n",
    "    year = 2019"
   ]
  },
  {
   "cell_type": "code",
   "execution_count": 3,
   "metadata": {},
   "outputs": [],
   "source": [
    "car1 = Car()"
   ]
  },
  {
   "cell_type": "code",
   "execution_count": 5,
   "metadata": {},
   "outputs": [
    {
     "name": "stdout",
     "output_type": "stream",
     "text": [
      "Red\n"
     ]
    }
   ],
   "source": [
    "print(car1.color)"
   ]
  },
  {
   "cell_type": "code",
   "execution_count": 7,
   "metadata": {},
   "outputs": [],
   "source": [
    "car1.color = 'green'"
   ]
  },
  {
   "cell_type": "code",
   "execution_count": 9,
   "metadata": {},
   "outputs": [
    {
     "data": {
      "text/plain": [
       "'green'"
      ]
     },
     "execution_count": 9,
     "metadata": {},
     "output_type": "execute_result"
    }
   ],
   "source": [
    "car1.color"
   ]
  },
  {
   "cell_type": "code",
   "execution_count": 10,
   "metadata": {},
   "outputs": [
    {
     "name": "stdout",
     "output_type": "stream",
     "text": [
      "Help on class Car in module __main__:\n",
      "\n",
      "class Car(builtins.object)\n",
      " |  Data descriptors defined here:\n",
      " |  \n",
      " |  __dict__\n",
      " |      dictionary for instance variables (if defined)\n",
      " |  \n",
      " |  __weakref__\n",
      " |      list of weak references to the object (if defined)\n",
      " |  \n",
      " |  ----------------------------------------------------------------------\n",
      " |  Data and other attributes defined here:\n",
      " |  \n",
      " |  color = 'Red'\n",
      " |  \n",
      " |  make = 'Honda'\n",
      " |  \n",
      " |  model = 'Accord'\n",
      " |  \n",
      " |  year = 2019\n",
      "\n"
     ]
    }
   ],
   "source": [
    "help(Car)"
   ]
  },
  {
   "cell_type": "code",
   "execution_count": null,
   "metadata": {},
   "outputs": [],
   "source": [
    "#class ShoppingCart"
   ]
  },
  {
   "cell_type": "code",
   "execution_count": null,
   "metadata": {},
   "outputs": [],
   "source": []
  },
  {
   "cell_type": "markdown",
   "metadata": {},
   "source": [
    "## Using a Class (Instantiating)\n",
    "<p>The process of creating a class is called <i>Instantiating</i>. Each time you create a variable of that type of class, it is referred to as an <i>Instance</i> of that class. This is the second step in the process of using a class.</p>"
   ]
  },
  {
   "cell_type": "markdown",
   "metadata": {},
   "source": [
    "##### Creating One Instance"
   ]
  },
  {
   "cell_type": "code",
   "execution_count": 12,
   "metadata": {},
   "outputs": [],
   "source": [
    "ford = Car()\n",
    "\n",
    "ford.color = 'blue'"
   ]
  },
  {
   "cell_type": "code",
   "execution_count": 13,
   "metadata": {},
   "outputs": [
    {
     "data": {
      "text/plain": [
       "'blue'"
      ]
     },
     "execution_count": 13,
     "metadata": {},
     "output_type": "execute_result"
    }
   ],
   "source": [
    "ford.color\n"
   ]
  },
  {
   "cell_type": "code",
   "execution_count": 14,
   "metadata": {},
   "outputs": [
    {
     "data": {
      "text/plain": [
       "'green'"
      ]
     },
     "execution_count": 14,
     "metadata": {},
     "output_type": "execute_result"
    }
   ],
   "source": [
    "car1.color"
   ]
  },
  {
   "cell_type": "markdown",
   "metadata": {},
   "source": [
    "##### Creating Multiple Instances"
   ]
  },
  {
   "cell_type": "code",
   "execution_count": null,
   "metadata": {},
   "outputs": [],
   "source": [
    "car2 = Car()\n",
    "car3 = Car()"
   ]
  },
  {
   "cell_type": "markdown",
   "metadata": {},
   "source": [
    "##### In-Class Exercise #1 - Create a Class 'Product' and Instantiate three different products\n"
   ]
  },
  {
   "cell_type": "code",
   "execution_count": 37,
   "metadata": {},
   "outputs": [
    {
     "name": "stdout",
     "output_type": "stream",
     "text": [
      "The megadome is green and costs $200\n"
     ]
    }
   ],
   "source": [
    "class Product:\n",
    "    def __init__(self, color, price, name):\n",
    "        self.color = color\n",
    "        self.price = price\n",
    "        self.name = name\n",
    "\n",
    "tent = Product('green', '$200', 'megadome')\n",
    "sleeping_bag = Product('red', '$100', 'cozy nest')\n",
    "lantern = Product('silver', '$50', 'Lighthouse')\n",
    "\n",
    "tent.__dict__\n",
    "print(f'The {tent.name} is {tent.color} and costs {tent.price}')"
   ]
  },
  {
   "cell_type": "code",
   "execution_count": null,
   "metadata": {},
   "outputs": [],
   "source": [
    "name = input('Product Name: ')\n",
    "color = input()"
   ]
  },
  {
   "cell_type": "markdown",
   "metadata": {},
   "source": [
    "## The \\__init\\__() Method <br>\n",
    "<p>This method is used in almost every created class, and called only once upon the creation of the class instance. This method will initialize all variables needed for the object.</p>"
   ]
  },
  {
   "cell_type": "code",
   "execution_count": null,
   "metadata": {},
   "outputs": [],
   "source": [
    "class Car:\n",
    "    color = 'Red'\n",
    "    make = 'Honda'\n",
    "    model = 'Accord'\n",
    "    year = 2019\n",
    "    \n",
    "ford = Car()\n",
    "ford.color = 'Green'\n",
    "ford.make = 'Ford'\n",
    "ford.model = 'Explorer'\n",
    "ford.year = 2018"
   ]
  },
  {
   "cell_type": "code",
   "execution_count": 35,
   "metadata": {},
   "outputs": [
    {
     "ename": "TypeError",
     "evalue": "__init__() takes 5 positional arguments but 6 were given",
     "output_type": "error",
     "traceback": [
      "\u001b[0;31m---------------------------------------------------------------------------\u001b[0m",
      "\u001b[0;31mTypeError\u001b[0m                                 Traceback (most recent call last)",
      "\u001b[0;32m/var/folders/yl/qklvhd0j5rjdt8ctsq6hr7w80000gn/T/ipykernel_67239/3708531242.py\u001b[0m in \u001b[0;36m<module>\u001b[0;34m\u001b[0m\n\u001b[1;32m     16\u001b[0m \u001b[0mpackage_limited\u001b[0m \u001b[0;34m=\u001b[0m \u001b[0mPackage\u001b[0m\u001b[0;34m(\u001b[0m\u001b[0;34m'Limited'\u001b[0m\u001b[0;34m)\u001b[0m\u001b[0;34m\u001b[0m\u001b[0;34m\u001b[0m\u001b[0m\n\u001b[1;32m     17\u001b[0m \u001b[0;34m\u001b[0m\u001b[0m\n\u001b[0;32m---> 18\u001b[0;31m \u001b[0mford\u001b[0m \u001b[0;34m=\u001b[0m \u001b[0mCar\u001b[0m\u001b[0;34m(\u001b[0m\u001b[0;34m'Ford'\u001b[0m\u001b[0;34m,\u001b[0m \u001b[0;34m'Explorer'\u001b[0m\u001b[0;34m,\u001b[0m \u001b[0;34m'Green'\u001b[0m\u001b[0;34m,\u001b[0m \u001b[0;36m2018\u001b[0m\u001b[0;34m,\u001b[0m \u001b[0mpackage_basic\u001b[0m\u001b[0;34m)\u001b[0m \u001b[0;31m#self == ford\u001b[0m\u001b[0;34m\u001b[0m\u001b[0;34m\u001b[0m\u001b[0m\n\u001b[0m\u001b[1;32m     19\u001b[0m \u001b[0mcrv\u001b[0m \u001b[0;34m=\u001b[0m \u001b[0mCar\u001b[0m\u001b[0;34m(\u001b[0m\u001b[0;34m)\u001b[0m\u001b[0;34m\u001b[0m\u001b[0;34m\u001b[0m\u001b[0m\n\u001b[1;32m     20\u001b[0m \u001b[0mford\u001b[0m\u001b[0;34m.\u001b[0m\u001b[0mpackage\u001b[0m\u001b[0;34m\u001b[0m\u001b[0;34m\u001b[0m\u001b[0m\n",
      "\u001b[0;31mTypeError\u001b[0m: __init__() takes 5 positional arguments but 6 were given"
     ]
    }
   ],
   "source": [
    "class Package:\n",
    "    #information about the package\n",
    "    def __init__(self,name):\n",
    "        self.name = name\n",
    "    \n",
    "    \n",
    "class Car:\n",
    "    def __init__(self, make, model, color, year):\n",
    "        self.color = color #instance attribute\n",
    "        self.make = make\n",
    "        self.model = model\n",
    "        self.year = year\n",
    "        self.package = package\n",
    "        \n",
    "package_basic = Package('Basic')\n",
    "package_limited = Package('Limited')\n",
    "        \n",
    "ford = Car('Ford', 'Explorer', 'Green', 2018, package_basic) #self == ford\n",
    "\n",
    "ford.package"
   ]
  },
  {
   "cell_type": "markdown",
   "metadata": {},
   "source": [
    "##### The 'self' Attribute <br>\n",
    "<p>This attribute is required to keep track of specific instance's attributes. Without the self attribute, the program would not know how to reference or keep track of an instance's attributes.</p>"
   ]
  },
  {
   "cell_type": "code",
   "execution_count": null,
   "metadata": {},
   "outputs": [],
   "source": [
    "# see above"
   ]
  },
  {
   "cell_type": "markdown",
   "metadata": {},
   "source": [
    "## Class Attributes <br>\n",
    "<p>While variables are inside of a class, they are referred to as attributes and not variables. When someone says 'attribute' you know they're speaking about a class. Attributes can be initialized through the init method, or outside of it.</p>"
   ]
  },
  {
   "cell_type": "markdown",
   "metadata": {},
   "source": [
    "##### Initializing Attributes"
   ]
  },
  {
   "cell_type": "code",
   "execution_count": 30,
   "metadata": {},
   "outputs": [],
   "source": [
    "# see above\n",
    "class Product:\n",
    "    products = []\n",
    "    \n",
    "    def __init__(self, color, price, name):\n",
    "        self.color = color\n",
    "        self.price = price\n",
    "        self.name = name\n",
    "        self.products.append(self)\n",
    "\n",
    "tent = Product('green', '$200', 'megadome')\n",
    "sleeping_bag = Product('red', '$100', 'cozy nest')\n",
    "lantern = Product('silver', '$50', 'Lighthouse')"
   ]
  },
  {
   "cell_type": "code",
   "execution_count": 31,
   "metadata": {},
   "outputs": [
    {
     "data": {
      "text/plain": [
       "[<__main__.Product at 0x7f99f99db340>,\n",
       " <__main__.Product at 0x7f99f99dbe20>,\n",
       " <__main__.Product at 0x7f99f99db040>]"
      ]
     },
     "execution_count": 31,
     "metadata": {},
     "output_type": "execute_result"
    }
   ],
   "source": [
    "Product.products"
   ]
  },
  {
   "cell_type": "code",
   "execution_count": 32,
   "metadata": {},
   "outputs": [
    {
     "data": {
      "text/plain": [
       "[<__main__.Product at 0x7f99f99db340>,\n",
       " <__main__.Product at 0x7f99f99dbe20>,\n",
       " <__main__.Product at 0x7f99f99db040>]"
      ]
     },
     "execution_count": 32,
     "metadata": {},
     "output_type": "execute_result"
    }
   ],
   "source": [
    "tent.products"
   ]
  },
  {
   "cell_type": "markdown",
   "metadata": {},
   "source": [
    "##### Accessing Class Attributes"
   ]
  },
  {
   "cell_type": "code",
   "execution_count": 33,
   "metadata": {
    "scrolled": true
   },
   "outputs": [
    {
     "data": {
      "text/plain": [
       "[<__main__.Product at 0x7f99f99db340>,\n",
       " <__main__.Product at 0x7f99f99dbe20>,\n",
       " <__main__.Product at 0x7f99f99db040>]"
      ]
     },
     "execution_count": 33,
     "metadata": {},
     "output_type": "execute_result"
    }
   ],
   "source": [
    "# See Above\n",
    "Product.products\n",
    "tent.products"
   ]
  },
  {
   "cell_type": "markdown",
   "metadata": {},
   "source": [
    "##### Setting Defaults for Attributes"
   ]
  },
  {
   "cell_type": "code",
   "execution_count": null,
   "metadata": {},
   "outputs": [],
   "source": []
  },
  {
   "cell_type": "markdown",
   "metadata": {},
   "source": [
    "##### Changing Class Attributes <br>\n",
    "<p>Keep in mind there are global class attributes and then there are attributes only available to each class instance which won't effect other classes.</p>"
   ]
  },
  {
   "cell_type": "code",
   "execution_count": 34,
   "metadata": {},
   "outputs": [],
   "source": [
    "tent.products.append('Hello World')"
   ]
  },
  {
   "cell_type": "code",
   "execution_count": null,
   "metadata": {},
   "outputs": [],
   "source": []
  },
  {
   "cell_type": "markdown",
   "metadata": {},
   "source": [
    "##### In-Class Exercise #2 - Add a doors and seats attribute to your 'Car' class then print out two different instances with different doors and seats"
   ]
  },
  {
   "cell_type": "code",
   "execution_count": 3,
   "metadata": {},
   "outputs": [
    {
     "name": "stdout",
     "output_type": "stream",
     "text": [
      "The megadome is green and costs $200\n",
      "We currently have 200 tents in stock.\n",
      "We currently have 32 sleeping bags in stock.\n"
     ]
    }
   ],
   "source": [
    "class Product:\n",
    "    def __init__(self, color, price, name, inventory):\n",
    "        self.color = color\n",
    "        self.price = price\n",
    "        self.name = name\n",
    "        self.inventory = inventory\n",
    "\n",
    "tent = Product('green', '$200', 'megadome', 200)\n",
    "sleeping_bag = Product('red', '$100', 'cozy nest', 32)\n",
    "lantern = Product('silver', '$50', 'Lighthouse', 81)\n",
    "\n",
    "\n",
    "print(f'The {tent.name} is {tent.color} and costs {tent.price}')\n",
    "\n",
    "print(f'We currently have {tent.inventory} tents in stock.')\n",
    "print(f'We currently have {sleeping_bag.inventory} sleeping bags in stock.')"
   ]
  },
  {
   "cell_type": "code",
   "execution_count": 4,
   "metadata": {},
   "outputs": [
    {
     "data": {
      "text/plain": [
       "{'color': 'green', 'price': '$200', 'name': 'megadome', 'inventory': 200}"
      ]
     },
     "execution_count": 4,
     "metadata": {},
     "output_type": "execute_result"
    }
   ],
   "source": [
    "tent.__dict__"
   ]
  },
  {
   "cell_type": "markdown",
   "metadata": {},
   "source": [
    "## Class Methods <br>\n",
    "<p>While inside of a class, functions are referred to as 'methods'. If you hear someone mention methods, they're speaking about classes. Methods are essentially functions, but only callable on the instances of a class.</p>"
   ]
  },
  {
   "cell_type": "markdown",
   "metadata": {},
   "source": [
    "##### Creating"
   ]
  },
  {
   "cell_type": "code",
   "execution_count": 21,
   "metadata": {},
   "outputs": [],
   "source": [
    "class Car:\n",
    "    def __init__(self, make, model, color, year, miles):\n",
    "        self.make = make\n",
    "        self.model = model\n",
    "        self.color = color\n",
    "        self.year = year\n",
    "        self.miles = miles\n",
    "        \n",
    "    def paint_car(self, color):\n",
    "        self.color = color\n",
    "        print(f'The car was painted {color}')\n",
    "        \n",
    "    def drive_car(self, miles_driven):\n",
    "        self.miles += miles_driven\n",
    "        print('VROOM VROOM!')\n",
    "        \n",
    "    def print_car(self):\n",
    "        print(f'This car is a {self.year} {self.make} {self.model} that is {self.color} and has {self.miles} miles.')"
   ]
  },
  {
   "cell_type": "code",
   "execution_count": 22,
   "metadata": {},
   "outputs": [],
   "source": [
    "crv = Car('Honda', 'CRV', 'Green', 2018, 5000)\n",
    "tlx = Car('Acura', 'TLX', 'Red', 2019. 5400)"
   ]
  },
  {
   "cell_type": "code",
   "execution_count": 23,
   "metadata": {},
   "outputs": [
    {
     "name": "stdout",
     "output_type": "stream",
     "text": [
      "VROOM VROOM!\n"
     ]
    }
   ],
   "source": [
    "crv.drive_car(100)"
   ]
  },
  {
   "cell_type": "code",
   "execution_count": 25,
   "metadata": {},
   "outputs": [
    {
     "name": "stdout",
     "output_type": "stream",
     "text": [
      "This car is a 2018HondaCRV that is Green and has 5100 miles.\n"
     ]
    }
   ],
   "source": [
    "crv.print_car()"
   ]
  },
  {
   "cell_type": "code",
   "execution_count": 15,
   "metadata": {},
   "outputs": [
    {
     "data": {
      "text/plain": [
       "5400"
      ]
     },
     "execution_count": 15,
     "metadata": {},
     "output_type": "execute_result"
    }
   ],
   "source": [
    "crv.miles"
   ]
  },
  {
   "cell_type": "markdown",
   "metadata": {},
   "source": [
    "##### Calling"
   ]
  },
  {
   "cell_type": "code",
   "execution_count": 16,
   "metadata": {},
   "outputs": [
    {
     "name": "stdout",
     "output_type": "stream",
     "text": [
      "VROOM VROOM!\n"
     ]
    }
   ],
   "source": [
    "# See Above\n",
    "crv.drive_car(100)"
   ]
  },
  {
   "cell_type": "markdown",
   "metadata": {},
   "source": [
    "##### Modifying an Attribute's Value Through a Method"
   ]
  },
  {
   "cell_type": "code",
   "execution_count": 19,
   "metadata": {},
   "outputs": [
    {
     "name": "stdout",
     "output_type": "stream",
     "text": [
      "The car was painted Orange\n"
     ]
    }
   ],
   "source": [
    "crv.paint_car('Orange')"
   ]
  },
  {
   "cell_type": "code",
   "execution_count": 20,
   "metadata": {},
   "outputs": [
    {
     "data": {
      "text/plain": [
       "'Orange'"
      ]
     },
     "execution_count": 20,
     "metadata": {},
     "output_type": "execute_result"
    }
   ],
   "source": [
    "crv.color\n"
   ]
  },
  {
   "cell_type": "markdown",
   "metadata": {},
   "source": [
    "##### Incrementing an Attribute's Value Through a Method"
   ]
  },
  {
   "cell_type": "code",
   "execution_count": null,
   "metadata": {},
   "outputs": [],
   "source": []
  },
  {
   "cell_type": "markdown",
   "metadata": {},
   "source": [
    "##### In-Class Exercise #3 - Create a class of animal with the following properties:\n",
    "\n",
    "-Name\n",
    "-Species\n",
    "-Age\n",
    "\n",
    "Create a method that allows you to incriment the age by one."
   ]
  },
  {
   "cell_type": "code",
   "execution_count": 38,
   "metadata": {},
   "outputs": [
    {
     "name": "stdout",
     "output_type": "stream",
     "text": [
      "Happy Birthday!\n"
     ]
    },
    {
     "data": {
      "text/plain": [
       "30"
      ]
     },
     "execution_count": 38,
     "metadata": {},
     "output_type": "execute_result"
    }
   ],
   "source": [
    "class Animal:\n",
    "    \n",
    "    def __init__(self, name, species, age):\n",
    "        self.name = name\n",
    "        self.species = species\n",
    "        self.age = age\n",
    "        \n",
    "    def birthday(self, age_increase = 1):\n",
    "        self.age += age_increase\n",
    "        print('Happy Birthday!')\n",
    "\n",
    "lion = Animal('Leo', 'lion', 29)\n",
    "tiger = Animal('Tony', 'tiger', 21)\n",
    "\n",
    "lion.birthday()\n",
    "lion.age"
   ]
  },
  {
   "cell_type": "code",
   "execution_count": 33,
   "metadata": {},
   "outputs": [
    {
     "name": "stdout",
     "output_type": "stream",
     "text": [
      "Happy Birthday!\n"
     ]
    }
   ],
   "source": [
    "lion.birthday(1)"
   ]
  },
  {
   "cell_type": "code",
   "execution_count": 34,
   "metadata": {},
   "outputs": [
    {
     "data": {
      "text/plain": [
       "30"
      ]
     },
     "execution_count": 34,
     "metadata": {},
     "output_type": "execute_result"
    }
   ],
   "source": [
    "lion.age"
   ]
  },
  {
   "cell_type": "code",
   "execution_count": null,
   "metadata": {},
   "outputs": [],
   "source": [
    "# def test(self):\n",
    "#     test = True\n",
    "#     while test:\n",
    "#         try:\n",
    "#             dog_age = int(input(How old is your dof))"
   ]
  },
  {
   "cell_type": "markdown",
   "metadata": {},
   "source": [
    "## Inheritance <br>\n",
    "<p>You can create a child-parent relationship between two classes by using inheritance. What this allows you to do is have overriding methods, but also inherit traits from the parent class. Think of it as an actual parent and child, the child will inherit the parent's genes, as will the classes in OOP</p>"
   ]
  },
  {
   "cell_type": "markdown",
   "metadata": {},
   "source": [
    "##### Syntax for Inheriting from a Parent Class"
   ]
  },
  {
   "cell_type": "code",
   "execution_count": null,
   "metadata": {},
   "outputs": [],
   "source": []
  },
  {
   "cell_type": "markdown",
   "metadata": {},
   "source": [
    "##### The \\__init\\__() Method for a Child Class - super()"
   ]
  },
  {
   "cell_type": "code",
   "execution_count": null,
   "metadata": {
    "scrolled": true
   },
   "outputs": [],
   "source": []
  },
  {
   "cell_type": "markdown",
   "metadata": {},
   "source": [
    "##### Defining Attributes and Methods for the Child Class"
   ]
  },
  {
   "cell_type": "code",
   "execution_count": null,
   "metadata": {},
   "outputs": [],
   "source": [
    "# See Above"
   ]
  },
  {
   "cell_type": "markdown",
   "metadata": {},
   "source": [
    "##### Method Overriding"
   ]
  },
  {
   "cell_type": "code",
   "execution_count": null,
   "metadata": {},
   "outputs": [],
   "source": [
    "# See Above"
   ]
  },
  {
   "cell_type": "markdown",
   "metadata": {},
   "source": [
    "## Classes as Attributes <br>\n",
    "<p>Classes can also be used as attributes within another class. This is useful in situations where you need to keep variables locally stored, instead of globally stored.</p>"
   ]
  },
  {
   "cell_type": "code",
   "execution_count": null,
   "metadata": {},
   "outputs": [],
   "source": []
  },
  {
   "cell_type": "code",
   "execution_count": null,
   "metadata": {},
   "outputs": [],
   "source": [
    "from IPython.display import clear_output\n",
    "\n",
    "# step 2\n",
    "address_book = {}\n",
    "\n",
    "# step 1\n",
    "def store_info(name, address):\n",
    "    address_book[name] = address\n",
    "    \n",
    "def main():\n",
    "    # address_book = {}\n",
    "    # step 3\n",
    "    while True:\n",
    "        clear_output()\n",
    "        # step 4\n",
    "        name = input('What is your name? ')\n",
    "        address = input('What is your address? ')\n",
    "        # print(name, address)\n",
    "        \n",
    "        store_info(name, address)\n",
    "        \n",
    "        cont = input('Would you like to continue (y/n): ')\n",
    "        \n",
    "        if cont == 'n':\n",
    "            break\n",
    "            \n",
    "    print(address_book)\n",
    "        \n",
    "main()"
   ]
  },
  {
   "cell_type": "code",
   "execution_count": 3,
   "metadata": {},
   "outputs": [],
   "source": [
    "class AddressBook:\n",
    "    def __init__(self):\n",
    "        self.contacts = []\n",
    "        \n",
    "    def add_contact(self):\n",
    "        name = input('Enter name: ')\n",
    "        phone_number = input('Enter phone number: ')\n",
    "        address = input('Enter address: ')\n",
    "        email = input('Enter email: ')\n",
    "        \n",
    "        new_contact = Contact(name, phone_number, address, email)\n",
    "        self.contacts.append(new_contact)\n",
    "        \n",
    "    def delete_contact(self):\n",
    "        delete_name = input('Enter name to delete: ')\n",
    "        \n",
    "        for i in range(len(self.contacts)):\n",
    "            if self.contacts[i].name.lower() == delete_name.lower():\n",
    "                self.contacts.pop(i)\n",
    "                print('Contact deleted')\n",
    "                return\n",
    "            \n",
    "        print(f'{delete_name} was not found.')\n",
    "        \n",
    "    def print_contacts(self):\n",
    "        for contact in self.contacts:\n",
    "            print(f'{contact.name}')\n",
    "            print(f'Phone Number: {contact.phone_number}')\n",
    "            print(f'Address: {contact.address}')\n",
    "            print(f'Email: {contact.email}')\n",
    "            \n",
    "    def run(self):\n",
    "        while True:\n",
    "            user_choice = input('What would you like to do? (add/delete/show/quit)').lower()\n",
    "            \n",
    "            if user_choice == 'add':\n",
    "                self.add_contact()\n",
    "            elif user_choice == 'delete':\n",
    "                self.delete_contact()\n",
    "            elif user_choice == 'show':\n",
    "                self.print_contacts()\n",
    "            elif user_choice == 'quit':\n",
    "                self.print_contacts()\n",
    "                return\n",
    "            else:\n",
    "                print('That was not a valid input, please try again.')\n",
    "                    \n",
    "    \n",
    "class Contact:\n",
    "    def __init__(self, name, phone_number, address, email):\n",
    "        self.name = name\n",
    "        self.phone_number = phone_number\n",
    "        self.address = address\n",
    "        self.email = email"
   ]
  },
  {
   "cell_type": "code",
   "execution_count": null,
   "metadata": {},
   "outputs": [],
   "source": [
    "my_book = AddressBook()\n",
    "my_book.run()"
   ]
  },
  {
   "cell_type": "markdown",
   "metadata": {},
   "source": [
    "# Exercises"
   ]
  },
  {
   "cell_type": "markdown",
   "metadata": {},
   "source": [
    "### Exercise 1 - Turn the shopping cart program from yesterday into an object-oriented program\n",
    "\n",
    "The comments in the cell below are there as a guide for thinking about the problem. However, if you feel a different way is best for you and your own thought process, please do what feels best for you by all means."
   ]
  },
  {
   "cell_type": "code",
   "execution_count": 1,
   "metadata": {},
   "outputs": [],
   "source": [
    "# Create a class called cart that retains items and has methods to add, remove, and show\n",
    "# at least two classes, 1 for products, one for cart.\n",
    "\n",
    "class Cart():\n",
    "    def __init__(self):\n",
    "        self.items = []\n",
    "        \n",
    "    def add_item(self):\n",
    "        name = input('What item would you like to add?: ')\n",
    "        quantity = input('How many would you like to add?: ')\n",
    "        price = input('What is the price?: ')\n",
    "        \n",
    "        new_item = Products(name, quantity, price)\n",
    "        self.items.append(new_item)\n",
    "        \n",
    "    def delete_item(self):\n",
    "        delete_item = input('Enter item to delete: ')\n",
    "        \n",
    "        for i in range(len(self.items)):\n",
    "            if self.items[i].name.lower() == delete_item.lower():\n",
    "                self.items.pop(i)\n",
    "                print('Item deleted')\n",
    "                return\n",
    "            \n",
    "        print(f'{delete_name} was not found.')\n",
    "        \n",
    "    def print_items(self):\n",
    "        for item in self.items:\n",
    "            print(f'{item.name}')\n",
    "            print(f'Quantity: {item.quantity}')\n",
    "            print(f'Price: {item.price}')\n",
    "            \n",
    "    def run(self):\n",
    "        while True:\n",
    "            user_choice = input('What would you like to do? (add/delete/show/quit)').lower()\n",
    "            \n",
    "            if user_choice == 'add':\n",
    "                self.add_item()\n",
    "            elif user_choice == 'delete':\n",
    "                self.delete_item()\n",
    "            elif user_choice == 'show':\n",
    "                self.print_items()\n",
    "            elif user_choice == 'quit':\n",
    "                self.print_items()\n",
    "                return\n",
    "            else:\n",
    "                print('That was not a valid input, please try again.')\n",
    "                    \n",
    "    \n",
    "    \n",
    "class Products():\n",
    "    def __init__(self, name, quantity, price):\n",
    "        self.name = name\n",
    "        self.quantity = quantity\n",
    "        self.price = price\n",
    "     \n"
   ]
  },
  {
   "cell_type": "code",
   "execution_count": 2,
   "metadata": {},
   "outputs": [
    {
     "name": "stdout",
     "output_type": "stream",
     "text": [
      "What would you like to do? (add/delete/show/quit)add\n",
      "What item would you like to add?: eggs\n",
      "How many would you like to add?: 2\n",
      "What is the price?: 5\n",
      "What would you like to do? (add/delete/show/quit)add\n",
      "What item would you like to add?: bread\n",
      "How many would you like to add?: 1\n",
      "What is the price?: 4\n",
      "What would you like to do? (add/delete/show/quit)add\n",
      "What item would you like to add?: tequila\n",
      "How many would you like to add?: 1\n",
      "What is the price?: 20\n",
      "What would you like to do? (add/delete/show/quit)ass\n",
      "That was not a valid input, please try again.\n",
      "What would you like to do? (add/delete/show/quit)show\n",
      "eggs\n",
      "Quantity: 2\n",
      "Price: 5\n",
      "bread\n",
      "Quantity: 1\n",
      "Price: 4\n",
      "tequila\n",
      "Quantity: 1\n",
      "Price: 20\n",
      "What would you like to do? (add/delete/show/quit)delete\n",
      "Enter item to delete: eggs\n",
      "Item deleted\n",
      "What would you like to do? (add/delete/show/quit)show\n",
      "bread\n",
      "Quantity: 1\n",
      "Price: 4\n",
      "tequila\n",
      "Quantity: 1\n",
      "Price: 20\n",
      "What would you like to do? (add/delete/show/quit)add\n",
      "What item would you like to add?: lime\n",
      "How many would you like to add?: 6\n",
      "What is the price?: 3\n",
      "What would you like to do? (add/delete/show/quit)show\n",
      "bread\n",
      "Quantity: 1\n",
      "Price: 4\n",
      "tequila\n",
      "Quantity: 1\n",
      "Price: 20\n",
      "lime\n",
      "Quantity: 6\n",
      "Price: 3\n",
      "What would you like to do? (add/delete/show/quit)quit\n",
      "bread\n",
      "Quantity: 1\n",
      "Price: 4\n",
      "tequila\n",
      "Quantity: 1\n",
      "Price: 20\n",
      "lime\n",
      "Quantity: 6\n",
      "Price: 3\n"
     ]
    }
   ],
   "source": [
    "my_cart = Cart()\n",
    "my_cart.run()"
   ]
  },
  {
   "cell_type": "markdown",
   "metadata": {},
   "source": [
    "### Exercise 2 - Write a Python class which has two methods get_String and print_String. get_String accept a string from the user and print_String print the string in upper case"
   ]
  },
  {
   "cell_type": "code",
   "execution_count": null,
   "metadata": {},
   "outputs": [],
   "source": []
  }
 ],
 "metadata": {
  "kernelspec": {
   "display_name": "Python 3",
   "language": "python",
   "name": "python3"
  },
  "language_info": {
   "codemirror_mode": {
    "name": "ipython",
    "version": 3
   },
   "file_extension": ".py",
   "mimetype": "text/x-python",
   "name": "python",
   "nbconvert_exporter": "python",
   "pygments_lexer": "ipython3",
   "version": "3.9.7 (v3.9.7:1016ef3790, Aug 30 2021, 16:25:35) \n[Clang 12.0.5 (clang-1205.0.22.11)]"
  },
  "vscode": {
   "interpreter": {
    "hash": "aee8b7b246df8f9039afb4144a1f6fd8d2ca17a180786b69acc140d282b71a49"
   }
  }
 },
 "nbformat": 4,
 "nbformat_minor": 2
}
